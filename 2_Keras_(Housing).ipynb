{
  "nbformat": 4,
  "nbformat_minor": 0,
  "metadata": {
    "colab": {
      "name": "2. Keras (Housing).ipynb",
      "provenance": [],
      "collapsed_sections": []
    },
    "kernelspec": {
      "name": "python3",
      "display_name": "Python 3"
    }
  },
  "cells": [
    {
      "cell_type": "code",
      "metadata": {
        "id": "SXKo8cO9jnWd",
        "colab_type": "code",
        "outputId": "fa46c2d3-b3d8-4ba1-a9b1-f4b53f6273ec",
        "colab": {
          "base_uri": "https://localhost:8080/",
          "height": 80
        }
      },
      "source": [
        "# import library\n",
        "import numpy as np\n",
        "import tensorflow as tf\n",
        "import matplotlib.pyplot as plt\n",
        "import pandas as pd\n",
        "from sklearn.model_selection import KFold\n",
        "%matplotlib inline"
      ],
      "execution_count": 0,
      "outputs": [
        {
          "output_type": "display_data",
          "data": {
            "text/html": [
              "<p style=\"color: red;\">\n",
              "The default version of TensorFlow in Colab will soon switch to TensorFlow 2.x.<br>\n",
              "We recommend you <a href=\"https://www.tensorflow.org/guide/migrate\" target=\"_blank\">upgrade</a> now \n",
              "or ensure your notebook will continue to use TensorFlow 1.x via the <code>%tensorflow_version 1.x</code> magic:\n",
              "<a href=\"https://colab.research.google.com/notebooks/tensorflow_version.ipynb\" target=\"_blank\">more info</a>.</p>\n"
            ],
            "text/plain": [
              "<IPython.core.display.HTML object>"
            ]
          },
          "metadata": {
            "tags": []
          }
        }
      ]
    },
    {
      "cell_type": "code",
      "metadata": {
        "id": "Jsh1HRv4j4Ir",
        "colab_type": "code",
        "colab": {}
      },
      "source": [
        "# load dataset\n",
        "dataframe = pd.read_csv(\"housing.csv\",header=None)\n",
        "dataset = dataframe.values\n",
        "# split into input (X) and output (Y) variables\n",
        "X = dataset[:,0:13]\n",
        "Y = dataset[:,13:14]"
      ],
      "execution_count": 0,
      "outputs": []
    },
    {
      "cell_type": "code",
      "metadata": {
        "id": "i53ouJOS5GhL",
        "colab_type": "code",
        "outputId": "fe159c83-52b7-4d49-ab0e-e0d53ca32a7a",
        "colab": {
          "base_uri": "https://localhost:8080/",
          "height": 317
        }
      },
      "source": [
        "dataframe.describe()"
      ],
      "execution_count": 0,
      "outputs": [
        {
          "output_type": "execute_result",
          "data": {
            "text/html": [
              "<div>\n",
              "<style scoped>\n",
              "    .dataframe tbody tr th:only-of-type {\n",
              "        vertical-align: middle;\n",
              "    }\n",
              "\n",
              "    .dataframe tbody tr th {\n",
              "        vertical-align: top;\n",
              "    }\n",
              "\n",
              "    .dataframe thead th {\n",
              "        text-align: right;\n",
              "    }\n",
              "</style>\n",
              "<table border=\"1\" class=\"dataframe\">\n",
              "  <thead>\n",
              "    <tr style=\"text-align: right;\">\n",
              "      <th></th>\n",
              "      <th>0</th>\n",
              "      <th>1</th>\n",
              "      <th>2</th>\n",
              "      <th>3</th>\n",
              "      <th>4</th>\n",
              "      <th>5</th>\n",
              "      <th>6</th>\n",
              "      <th>7</th>\n",
              "      <th>8</th>\n",
              "      <th>9</th>\n",
              "      <th>10</th>\n",
              "      <th>11</th>\n",
              "      <th>12</th>\n",
              "      <th>13</th>\n",
              "    </tr>\n",
              "  </thead>\n",
              "  <tbody>\n",
              "    <tr>\n",
              "      <th>count</th>\n",
              "      <td>506.000000</td>\n",
              "      <td>506.000000</td>\n",
              "      <td>506.000000</td>\n",
              "      <td>506.000000</td>\n",
              "      <td>506.000000</td>\n",
              "      <td>506.000000</td>\n",
              "      <td>506.000000</td>\n",
              "      <td>506.000000</td>\n",
              "      <td>506.000000</td>\n",
              "      <td>506.000000</td>\n",
              "      <td>506.000000</td>\n",
              "      <td>506.000000</td>\n",
              "      <td>506.000000</td>\n",
              "      <td>506.000000</td>\n",
              "    </tr>\n",
              "    <tr>\n",
              "      <th>mean</th>\n",
              "      <td>3.613524</td>\n",
              "      <td>11.363636</td>\n",
              "      <td>11.136779</td>\n",
              "      <td>0.069170</td>\n",
              "      <td>0.554695</td>\n",
              "      <td>6.284634</td>\n",
              "      <td>68.574901</td>\n",
              "      <td>3.795043</td>\n",
              "      <td>9.549407</td>\n",
              "      <td>408.237154</td>\n",
              "      <td>18.455534</td>\n",
              "      <td>356.674032</td>\n",
              "      <td>12.653063</td>\n",
              "      <td>22.532806</td>\n",
              "    </tr>\n",
              "    <tr>\n",
              "      <th>std</th>\n",
              "      <td>8.601545</td>\n",
              "      <td>23.322453</td>\n",
              "      <td>6.860353</td>\n",
              "      <td>0.253994</td>\n",
              "      <td>0.115878</td>\n",
              "      <td>0.702617</td>\n",
              "      <td>28.148861</td>\n",
              "      <td>2.105710</td>\n",
              "      <td>8.707259</td>\n",
              "      <td>168.537116</td>\n",
              "      <td>2.164946</td>\n",
              "      <td>91.294864</td>\n",
              "      <td>7.141062</td>\n",
              "      <td>9.197104</td>\n",
              "    </tr>\n",
              "    <tr>\n",
              "      <th>min</th>\n",
              "      <td>0.006320</td>\n",
              "      <td>0.000000</td>\n",
              "      <td>0.460000</td>\n",
              "      <td>0.000000</td>\n",
              "      <td>0.385000</td>\n",
              "      <td>3.561000</td>\n",
              "      <td>2.900000</td>\n",
              "      <td>1.129600</td>\n",
              "      <td>1.000000</td>\n",
              "      <td>187.000000</td>\n",
              "      <td>12.600000</td>\n",
              "      <td>0.320000</td>\n",
              "      <td>1.730000</td>\n",
              "      <td>5.000000</td>\n",
              "    </tr>\n",
              "    <tr>\n",
              "      <th>25%</th>\n",
              "      <td>0.082045</td>\n",
              "      <td>0.000000</td>\n",
              "      <td>5.190000</td>\n",
              "      <td>0.000000</td>\n",
              "      <td>0.449000</td>\n",
              "      <td>5.885500</td>\n",
              "      <td>45.025000</td>\n",
              "      <td>2.100175</td>\n",
              "      <td>4.000000</td>\n",
              "      <td>279.000000</td>\n",
              "      <td>17.400000</td>\n",
              "      <td>375.377500</td>\n",
              "      <td>6.950000</td>\n",
              "      <td>17.025000</td>\n",
              "    </tr>\n",
              "    <tr>\n",
              "      <th>50%</th>\n",
              "      <td>0.256510</td>\n",
              "      <td>0.000000</td>\n",
              "      <td>9.690000</td>\n",
              "      <td>0.000000</td>\n",
              "      <td>0.538000</td>\n",
              "      <td>6.208500</td>\n",
              "      <td>77.500000</td>\n",
              "      <td>3.207450</td>\n",
              "      <td>5.000000</td>\n",
              "      <td>330.000000</td>\n",
              "      <td>19.050000</td>\n",
              "      <td>391.440000</td>\n",
              "      <td>11.360000</td>\n",
              "      <td>21.200000</td>\n",
              "    </tr>\n",
              "    <tr>\n",
              "      <th>75%</th>\n",
              "      <td>3.677082</td>\n",
              "      <td>12.500000</td>\n",
              "      <td>18.100000</td>\n",
              "      <td>0.000000</td>\n",
              "      <td>0.624000</td>\n",
              "      <td>6.623500</td>\n",
              "      <td>94.075000</td>\n",
              "      <td>5.188425</td>\n",
              "      <td>24.000000</td>\n",
              "      <td>666.000000</td>\n",
              "      <td>20.200000</td>\n",
              "      <td>396.225000</td>\n",
              "      <td>16.955000</td>\n",
              "      <td>25.000000</td>\n",
              "    </tr>\n",
              "    <tr>\n",
              "      <th>max</th>\n",
              "      <td>88.976200</td>\n",
              "      <td>100.000000</td>\n",
              "      <td>27.740000</td>\n",
              "      <td>1.000000</td>\n",
              "      <td>0.871000</td>\n",
              "      <td>8.780000</td>\n",
              "      <td>100.000000</td>\n",
              "      <td>12.126500</td>\n",
              "      <td>24.000000</td>\n",
              "      <td>711.000000</td>\n",
              "      <td>22.000000</td>\n",
              "      <td>396.900000</td>\n",
              "      <td>37.970000</td>\n",
              "      <td>50.000000</td>\n",
              "    </tr>\n",
              "  </tbody>\n",
              "</table>\n",
              "</div>"
            ],
            "text/plain": [
              "               0           1           2   ...          11          12          13\n",
              "count  506.000000  506.000000  506.000000  ...  506.000000  506.000000  506.000000\n",
              "mean     3.613524   11.363636   11.136779  ...  356.674032   12.653063   22.532806\n",
              "std      8.601545   23.322453    6.860353  ...   91.294864    7.141062    9.197104\n",
              "min      0.006320    0.000000    0.460000  ...    0.320000    1.730000    5.000000\n",
              "25%      0.082045    0.000000    5.190000  ...  375.377500    6.950000   17.025000\n",
              "50%      0.256510    0.000000    9.690000  ...  391.440000   11.360000   21.200000\n",
              "75%      3.677082   12.500000   18.100000  ...  396.225000   16.955000   25.000000\n",
              "max     88.976200  100.000000   27.740000  ...  396.900000   37.970000   50.000000\n",
              "\n",
              "[8 rows x 14 columns]"
            ]
          },
          "metadata": {
            "tags": []
          },
          "execution_count": 26
        }
      ]
    },
    {
      "cell_type": "code",
      "metadata": {
        "id": "L-m4-nimltPg",
        "colab_type": "code",
        "colab": {}
      },
      "source": [
        "# Buat arsitektur jaringan\n",
        "model = tf.keras.Sequential()\n",
        "\n",
        "#model.add(tf.keras.layers.Dense(256,kernel_initializer='normal',activation='relu',input_shape=(13,)))\n",
        "#model.add(tf.keras.layers.Dense(128,kernel_initializer='normal',activation='relu'))\n",
        "#model.add(tf.keras.layers.Dense(64,kernel_initializer='normal',activation='relu'))\n",
        "#model.add(tf.keras.layers.Dense(8,kernel_initializer='normal',activation='relu'))\n",
        "model.add(tf.keras.layers.Dense(13,kernel_initializer='normal',activation='relu'))\n",
        "model.add(tf.keras.layers.Dense(1,kernel_initializer='normal'))\n",
        "model.compile(loss='mean_squared_error', optimizer='adam')"
      ],
      "execution_count": 0,
      "outputs": []
    },
    {
      "cell_type": "code",
      "metadata": {
        "id": "U_OpdYDfmkCG",
        "colab_type": "code",
        "outputId": "e9e4b3c8-21b4-4f8c-e0ba-944e81d36797",
        "colab": {
          "base_uri": "https://localhost:8080/",
          "height": 241
        }
      },
      "source": [
        "cvscores = []\n",
        "kfold = KFold(n_splits=10,shuffle=True)\n",
        "for train, test in kfold.split(X,Y):\n",
        "  model.add(tf.keras.layers.Dense(13,kernel_initializer='normal',activation='relu'))\n",
        "  model.add(tf.keras.layers.Dense(1,kernel_initializer='normal'))\n",
        "  model.fit(X[train],Y[train],epochs=50,verbose=0)\n",
        "  scores= model.evaluate(X[test],Y[test],verbose=0)\n",
        "  print((scores))\n",
        "  cvscores.append(scores)\n",
        "print(\"%.2f (+/- %.2f)\"%(np.mean(cvscores),np.std(cvscores)))"
      ],
      "execution_count": 0,
      "outputs": [
        {
          "output_type": "stream",
          "text": [
            "WARNING:tensorflow:Discrepancy between trainable weights and collected trainable weights, did you set `model.trainable` without calling `model.compile` after ?\n",
            "12.67381675570619\n",
            "10.1169298583386\n",
            "7.354764985103233\n",
            "7.448023955027263\n",
            "10.503809573603611\n",
            "7.240258927438774\n",
            "25.16762741088867\n",
            "13.055893936157226\n",
            "16.70672866821289\n",
            "10.937520294189452\n",
            "12.12 (+/- 5.18)\n"
          ],
          "name": "stdout"
        }
      ]
    },
    {
      "cell_type": "code",
      "metadata": {
        "id": "8WaYCvCamy0p",
        "colab_type": "code",
        "outputId": "1933b180-1887-4caa-8b49-acb39e96e18c",
        "colab": {
          "base_uri": "https://localhost:8080/",
          "height": 204
        }
      },
      "source": [
        "cvscores = []\n",
        "kfold = KFold(n_splits=10,shuffle=True)\n",
        "for train, test in kfold.split(X,Y):\n",
        "  model.add(tf.keras.layers.Dense(13,kernel_initializer='normal',activation='relu'))\n",
        "  model.add(tf.keras.layers.Dense(1,kernel_initializer='normal'))\n",
        "  model.fit(X[train],Y[train],epochs=10,verbose=0)\n",
        "  scores= model.evaluate(X[test],Y[test],verbose=0)\n",
        "  print((scores))\n",
        "  cvscores.append(scores)\n",
        "print(\"%.2f (+/- %.2f)\"%(np.mean(cvscores),np.std(cvscores)))"
      ],
      "execution_count": 0,
      "outputs": [
        {
          "output_type": "stream",
          "text": [
            "11.201701351240569\n",
            "6.069269591686773\n",
            "14.670387492460364\n",
            "12.565559798595952\n",
            "8.253859688253964\n",
            "4.057821161606732\n",
            "4.1214910507202145\n",
            "7.6613929748535154\n",
            "14.649338150024414\n",
            "3.2912330055236816\n",
            "8.65 (+/- 4.15)\n"
          ],
          "name": "stdout"
        }
      ]
    },
    {
      "cell_type": "code",
      "metadata": {
        "id": "5OD3tc0HpGAy",
        "colab_type": "code",
        "outputId": "03192870-b499-4f61-c24f-bfa203a767af",
        "colab": {
          "base_uri": "https://localhost:8080/",
          "height": 204
        }
      },
      "source": [
        "cvscores = []\n",
        "kfold = KFold(n_splits=10,shuffle=True)\n",
        "for train, test in kfold.split(X,Y):\n",
        "  model = tf.keras.Sequential()\n",
        "  model.add(tf.keras.layers.Dense(256,kernel_initializer='normal',activation='relu',input_shape=(13,)))\n",
        "  model.add(tf.keras.layers.Dense(128,kernel_initializer='normal',activation='relu'))\n",
        "  model.add(tf.keras.layers.Dense(8,kernel_initializer='normal',activation='relu'))\n",
        "  model.add(tf.keras.layers.Dense(1,kernel_initializer='normal'))\n",
        "  model.compile(loss='mean_squared_error', optimizer='adam')\n",
        "  \n",
        "  model.fit(X[train],Y[train],epochs=100,verbose=0)\n",
        "  scores= model.evaluate(X[test],Y[test],verbose=0)\n",
        "  print((scores))\n",
        "  cvscores.append(scores)\n",
        "print(\"%.2f (+/- %.2f)\"%(np.mean(cvscores),np.std(cvscores)))"
      ],
      "execution_count": 0,
      "outputs": [
        {
          "output_type": "stream",
          "text": [
            "10.668072139515596\n",
            "14.308297549977022\n",
            "45.07380721148323\n",
            "18.354163917840697\n",
            "16.644139906939337\n",
            "18.06139517765419\n",
            "19.84389724731445\n",
            "10.806161155700684\n",
            "13.10805965423584\n",
            "55.508590087890624\n",
            "22.24 (+/- 14.52)\n"
          ],
          "name": "stdout"
        }
      ]
    },
    {
      "cell_type": "code",
      "metadata": {
        "id": "o9HvIDcv4zGi",
        "colab_type": "code",
        "outputId": "1e14cbe8-4372-46af-dc19-d1cabd896c41",
        "colab": {
          "base_uri": "https://localhost:8080/",
          "height": 714
        }
      },
      "source": [
        "J = model.fit(X,Y,validation_split=0.33,epochs=20,batch_size=128)"
      ],
      "execution_count": 0,
      "outputs": [
        {
          "output_type": "stream",
          "text": [
            "Train on 339 samples, validate on 167 samples\n",
            "Epoch 1/20\n",
            "339/339 [==============================] - 0s 167us/sample - loss: 19.5370 - val_loss: 34.1156\n",
            "Epoch 2/20\n",
            "339/339 [==============================] - 0s 104us/sample - loss: 17.4337 - val_loss: 31.8364\n",
            "Epoch 3/20\n",
            "339/339 [==============================] - 0s 85us/sample - loss: 16.9202 - val_loss: 36.9842\n",
            "Epoch 4/20\n",
            "339/339 [==============================] - 0s 85us/sample - loss: 16.5222 - val_loss: 35.8865\n",
            "Epoch 5/20\n",
            "339/339 [==============================] - 0s 99us/sample - loss: 15.4052 - val_loss: 27.6359\n",
            "Epoch 6/20\n",
            "339/339 [==============================] - 0s 79us/sample - loss: 14.6451 - val_loss: 25.0669\n",
            "Epoch 7/20\n",
            "339/339 [==============================] - 0s 67us/sample - loss: 14.1606 - val_loss: 24.3875\n",
            "Epoch 8/20\n",
            "339/339 [==============================] - 0s 94us/sample - loss: 14.2961 - val_loss: 23.1166\n",
            "Epoch 9/20\n",
            "339/339 [==============================] - 0s 90us/sample - loss: 14.0527 - val_loss: 21.3720\n",
            "Epoch 10/20\n",
            "339/339 [==============================] - 0s 79us/sample - loss: 13.5865 - val_loss: 20.9328\n",
            "Epoch 11/20\n",
            "339/339 [==============================] - 0s 87us/sample - loss: 13.3098 - val_loss: 20.6808\n",
            "Epoch 12/20\n",
            "339/339 [==============================] - 0s 83us/sample - loss: 13.1773 - val_loss: 20.9715\n",
            "Epoch 13/20\n",
            "339/339 [==============================] - 0s 84us/sample - loss: 13.0359 - val_loss: 21.0960\n",
            "Epoch 14/20\n",
            "339/339 [==============================] - 0s 85us/sample - loss: 12.9273 - val_loss: 21.0565\n",
            "Epoch 15/20\n",
            "339/339 [==============================] - 0s 90us/sample - loss: 12.9611 - val_loss: 21.2513\n",
            "Epoch 16/20\n",
            "339/339 [==============================] - 0s 101us/sample - loss: 12.7645 - val_loss: 22.0406\n",
            "Epoch 17/20\n",
            "339/339 [==============================] - 0s 83us/sample - loss: 12.8352 - val_loss: 22.3292\n",
            "Epoch 18/20\n",
            "339/339 [==============================] - 0s 77us/sample - loss: 12.6824 - val_loss: 21.5021\n",
            "Epoch 19/20\n",
            "339/339 [==============================] - 0s 70us/sample - loss: 12.8055 - val_loss: 22.0885\n",
            "Epoch 20/20\n",
            "339/339 [==============================] - 0s 91us/sample - loss: 12.5990 - val_loss: 23.3787\n"
          ],
          "name": "stdout"
        }
      ]
    },
    {
      "cell_type": "code",
      "metadata": {
        "id": "tOIXmf1i41Aj",
        "colab_type": "code",
        "outputId": "4bd73986-59cf-415f-fff9-200da26759ce",
        "colab": {
          "base_uri": "https://localhost:8080/",
          "height": 312
        }
      },
      "source": [
        "# Fit the model\n",
        "history = model.fit(X, Y, validation_split=0.33, epochs=100, batch_size=10, verbose=0)\n",
        "# list all data in history\n",
        "print(history.history.keys())\n",
        "# summarize history for loss\n",
        "plt.plot(history.history['loss'])\n",
        "plt.plot(history.history['val_loss'])\n",
        "plt.title('model loss')\n",
        "plt.ylabel('loss')\n",
        "plt.xlabel('epoch')\n",
        "plt.legend(['train', 'test'], loc='upper left')\n",
        "plt.show()"
      ],
      "execution_count": 0,
      "outputs": [
        {
          "output_type": "stream",
          "text": [
            "dict_keys(['loss', 'val_loss'])\n"
          ],
          "name": "stdout"
        },
        {
          "output_type": "display_data",
          "data": {
            "image/png": "[encoded data removed]",
            "text/plain": [
              "<Figure size 432x288 with 1 Axes>"
            ]
          },
          "metadata": {
            "tags": []
          }
        }
      ]
    }
  ]
}